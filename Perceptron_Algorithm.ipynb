{
 "cells": [
  {
   "cell_type": "markdown",
   "id": "15581b42",
   "metadata": {},
   "source": [
    "# 퍼셉트론 알고리즘\n",
    "\n",
    "- 이진분류(지도학습) 모델을 학습하기 위한 알고리즘"
   ]
  },
  {
   "cell_type": "code",
   "execution_count": 1,
   "id": "b3f6de83",
   "metadata": {},
   "outputs": [],
   "source": [
    "import numpy as np"
   ]
  },
  {
   "cell_type": "code",
   "execution_count": 4,
   "id": "a0c62d8a",
   "metadata": {},
   "outputs": [],
   "source": [
    "class Perceptron(object):\n",
    "    \n",
    "    # param : 학습률, 훈련 데이터셋 반복 횟수, 가중치 초기화를 위한 난수 생성 시드\n",
    "    def __init__(self, eta = 0.01, n_iter = 50, random_state = 1):\n",
    "        self.eta = eta\n",
    "        self.n_iter = n_iter\n",
    "        self.random_state = random_state\n",
    "        \n",
    "        \n",
    "        # 데이터 학습 메소드\n",
    "        # param : X.shape = [n_samples, n_features], y.shape = [n_samples]\n",
    "    def fit(self, X, y):\n",
    "        # seed 기반 난수 생성\n",
    "        rgen = np.ramdom.RandomState(self.random_state)\n",
    "        \n",
    "        # 학습된 가중치\n",
    "        # np.random.normal -> 평균:0, 표준편차:0.01, 사이즈:1 + X.shape[1]인 가중치 생성\n",
    "        self.w_ = rgen.normal(loc=0.0, scale=0.01, size=1 + X.shape[1])\n",
    "        \n",
    "        # epoch마다 잘못 분류된 횟수 기록\n",
    "        self.errors_ = []\n",
    "        \n",
    "        for _ in range(self.n_iter):\n",
    "            errors = 0\n",
    "            for xi, target in zip(X, y):\n",
    "                update = self.eta * (target - self.predict(xi))\n",
    "                self.w_[1:] += update * xi\n",
    "                self.w_[0] += update\n",
    "                errors += int(update != 0.0)\n",
    "            self.errors_.append(errors)\n",
    "        return self\n",
    "    \n",
    "    # 최종 입력 계산\n",
    "    def net_input(self, X):\n",
    "        return np.dot(X, self.w_[1:]) + self.w_[0]\n",
    "    \n",
    "    # return class label: 1 or -1\n",
    "    def predict(self, X):\n",
    "        return np.where(self.net_input(x)>=0.0, 1, -1)"
   ]
  },
  {
   "cell_type": "code",
   "execution_count": 3,
   "id": "6c7ab061",
   "metadata": {},
   "outputs": [
    {
     "data": {
      "text/plain": [
       "numpy.random.mtrand.RandomState"
      ]
     },
     "execution_count": 3,
     "metadata": {},
     "output_type": "execute_result"
    }
   ],
   "source": [
    "rgen = np.random.RandomState(1)\n",
    "type(rgen)"
   ]
  },
  {
   "cell_type": "code",
   "execution_count": 7,
   "id": "b42c4747",
   "metadata": {},
   "outputs": [
    {
     "data": {
      "text/plain": [
       "14"
      ]
     },
     "execution_count": 7,
     "metadata": {},
     "output_type": "execute_result"
    }
   ],
   "source": [
    "a = [1, 2, 3] \n",
    "b = [4, 5]\n",
    "sum([i*j for i, j in zip(a, b)])"
   ]
  }
 ],
 "metadata": {
  "kernelspec": {
   "display_name": "Python 3 (ipykernel)",
   "language": "python",
   "name": "python3"
  },
  "language_info": {
   "codemirror_mode": {
    "name": "ipython",
    "version": 3
   },
   "file_extension": ".py",
   "mimetype": "text/x-python",
   "name": "python",
   "nbconvert_exporter": "python",
   "pygments_lexer": "ipython3",
   "version": "3.9.12"
  }
 },
 "nbformat": 4,
 "nbformat_minor": 5
}
